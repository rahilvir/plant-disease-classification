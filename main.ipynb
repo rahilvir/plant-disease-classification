{
  "nbformat": 4,
  "nbformat_minor": 0,
  "metadata": {
    "colab": {
      "provenance": [],
      "include_colab_link": true
    },
    "kernelspec": {
      "name": "python3",
      "display_name": "Python 3"
    },
    "language_info": {
      "name": "python"
    }
  },
  "cells": [
    {
      "cell_type": "markdown",
      "metadata": {
        "id": "view-in-github",
        "colab_type": "text"
      },
      "source": [
        "<a href=\"https://colab.research.google.com/github/rahilvir/plant-disease-classification/blob/edit---aasees/main.ipynb\" target=\"_parent\"><img src=\"https://colab.research.google.com/assets/colab-badge.svg\" alt=\"Open In Colab\"/></a>"
      ]
    },
    {
      "cell_type": "code",
      "execution_count": null,
      "metadata": {
        "id": "hbeU4J7EH1mt"
      },
      "outputs": [],
      "source": [
        "from google.colab import drive\n",
        "drive.mount('/content/drive')"
      ]
    },
    {
      "cell_type": "code",
      "source": [
        "import numpy as np # linear algebra\n",
        "import pandas as pd # data processing, CSV file I/O (e.g. pd.read_csv)\n",
        "import matplotlib.pyplot as plt\n",
        "import cv2\n",
        "import seaborn as sns\n",
        "import glob\n",
        "import xml.etree.ElementTree as ET\n",
        "from PIL import Image\n",
        "import os\n",
        "import shutil"
      ],
      "metadata": {
        "id": "9oJ8pv3WH6PE"
      },
      "execution_count": null,
      "outputs": []
    },
    {
      "cell_type": "code",
      "source": [
        "%pip install ultralytics\n",
        "import ultralytics\n",
        "ultralytics.checks()\n",
        "\n",
        "from ultralytics import YOLO"
      ],
      "metadata": {
        "id": "rGNPgVBLH6zl"
      },
      "execution_count": null,
      "outputs": []
    },
    {
      "cell_type": "code",
      "source": [
        "!yolo classify predict  model=yolov8s-cls.pt source='https://ultralytics.com/images/zidane.jpg'\n",
        "model = YOLO(\"yolo11n-cls.pt\")  # load a pretrained model (recommended for training)\n",
        "results = model.train(data=\"mnist160\", epochs=5, imgsz=64)"
      ],
      "metadata": {
        "id": "cQPZFbG2H9TE"
      },
      "execution_count": null,
      "outputs": []
    },
    {
      "cell_type": "code",
      "source": [
        "# Correct case-insensitive path handling\n",
        "file_path = '/PlantVillage/Pepper__bell___healthy/18cf27f2-1bd9-46b6-bcc4-98ff09ee37c1___JR_HL 8671.JPG'\n",
        "if os.path.exists(file_path):\n",
        "    img = Image.open(file_path)\n",
        "else:\n",
        "    print(\"File not found:\", file_path)"
      ],
      "metadata": {
        "id": "C-Q3P2RyH9J8"
      },
      "execution_count": null,
      "outputs": []
    },
    {
      "cell_type": "code",
      "source": [
        "\n",
        "# Validate the model\n",
        "metrics = model.val()  # no arguments needed, dataset and settings remembered\n",
        "metrics.top1  # top1 accuracy\n",
        "metrics.top5  # top5 accuracy"
      ],
      "metadata": {
        "id": "FWguJuL9Twvn"
      },
      "execution_count": null,
      "outputs": []
    }
  ]
}