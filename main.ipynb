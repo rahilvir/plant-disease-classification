{
  "nbformat": 4,
  "nbformat_minor": 0,
  "metadata": {
    "colab": {
      "provenance": [],
      "authorship_tag": "ABX9TyN2UYF8EfF3n6hPSV4EJ4WD",
      "include_colab_link": true
    },
    "kernelspec": {
      "name": "python3",
      "display_name": "Python 3"
    },
    "language_info": {
      "name": "python"
    }
  },
  "cells": [
    {
      "cell_type": "markdown",
      "metadata": {
        "id": "view-in-github",
        "colab_type": "text"
      },
      "source": [
        "<a href=\"https://colab.research.google.com/github/rahilvir/plant-disease-classification/blob/main/main.ipynb\" target=\"_parent\"><img src=\"https://colab.research.google.com/assets/colab-badge.svg\" alt=\"Open In Colab\"/></a>"
      ]
    },
    {
      "cell_type": "code",
      "execution_count": null,
      "metadata": {
        "id": "hbeU4J7EH1mt"
      },
      "outputs": [],
      "source": [
        "%pip install ultralytics\n",
        "import ultralytics\n",
        "ultralytics.checks()"
      ]
    },
    {
      "cell_type": "code",
      "source": [
        "from ultralytics import YOLO"
      ],
      "metadata": {
        "id": "9oJ8pv3WH6PE"
      },
      "execution_count": null,
      "outputs": []
    },
    {
      "cell_type": "code",
      "source": [
        "model = YOLO(\"yolo11n-cls.pt\")"
      ],
      "metadata": {
        "id": "rGNPgVBLH6zl"
      },
      "execution_count": null,
      "outputs": []
    },
    {
      "cell_type": "code",
      "source": [
        "model"
      ],
      "metadata": {
        "id": "cQPZFbG2H9TE"
      },
      "execution_count": null,
      "outputs": []
    },
    {
      "cell_type": "code",
      "source": [
        "%%writefile config.yaml\n",
        "path: /content/drive/MyDrive/Tutorials/Datasets/FRUIT DATA/Final_data\n",
        "train: /content/drive/MyDrive/Tutorials/Datasets/FRUIT DATA/Final_data/images/train\n",
        "#test: (test dataset folder path)\n",
        "val: /content/drive/MyDrive/Tutorials/Datasets/FRUIT DATA/Final_data/images/val\n",
        "\n",
        "# Classes\n",
        "nc: 3 # replace based on your dataset's number of classes\n",
        "\n",
        "# Class names\n",
        "# replace all class names with your own classes' names\n",
        "names:\n",
        "  0: orange\n",
        "  1: apple\n",
        "  2: banana"
      ],
      "metadata": {
        "id": "C-Q3P2RyH9J8"
      },
      "execution_count": null,
      "outputs": []
    }
  ]
}