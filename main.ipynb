{
  "nbformat": 4,
  "nbformat_minor": 0,
  "metadata": {
    "colab": {
      "provenance": [],
      "authorship_tag": "ABX9TyNNu+GWQOoPkzvmHXvvYmyo",
      "include_colab_link": true
    },
    "kernelspec": {
      "name": "python3",
      "display_name": "Python 3"
    },
    "language_info": {
      "name": "python"
    }
  },
  "cells": [
    {
      "cell_type": "markdown",
      "metadata": {
        "id": "view-in-github",
        "colab_type": "text"
      },
      "source": [
        "<a href=\"https://colab.research.google.com/github/rahilvir/plant-disease-classification/blob/main/main.ipynb\" target=\"_parent\"><img src=\"https://colab.research.google.com/assets/colab-badge.svg\" alt=\"Open In Colab\"/></a>"
      ]
    },
    {
      "cell_type": "code",
      "execution_count": null,
      "metadata": {
        "id": "hbeU4J7EH1mt"
      },
      "outputs": [],
      "source": [
        "!pip install ultralytics"
      ]
    },
    {
      "cell_type": "code",
      "source": [
        "from ultralytics import YOLO"
      ],
      "metadata": {
        "id": "9oJ8pv3WH6PE"
      },
      "execution_count": null,
      "outputs": []
    },
    {
      "cell_type": "code",
      "source": [
        "import os\n",
        "import random\n",
        "import shutil\n",
        "\n",
        "# Define paths\n",
        "base_dir = \"1\"  # Path to the main 'data' folder\n",
        "train_dir = os.path.join(base_dir, \"train\")\n",
        "val_dir = os.path.join(base_dir, \"val\")\n",
        "test_dir = os.path.join(base_dir, \"test\")\n",
        "\n",
        "# Create destination folders if they don't exist\n",
        "os.makedirs(train_dir, exist_ok=True)\n",
        "os.makedirs(val_dir, exist_ok=True)\n",
        "os.makedirs(test_dir, exist_ok=True)\n",
        "\n",
        "# Set split ratios\n",
        "train_ratio = 0.8\n",
        "val_ratio = 0.15\n",
        "test_ratio = 0.05\n",
        "\n",
        "# Loop through each subfolder (disease type)\n",
        "for disease_folder in os.listdir(base_dir):\n",
        "    disease_folder_path = os.path.join(base_dir, disease_folder)\n",
        "    if not os.path.isdir(disease_folder_path):  # Skip non-directory files\n",
        "        continue\n",
        "\n",
        "    # Create disease subfolders in train, val, and test directories\n",
        "    os.makedirs(os.path.join(train_dir, disease_folder), exist_ok=True)\n",
        "    os.makedirs(os.path.join(val_dir, disease_folder), exist_ok=True)\n",
        "    os.makedirs(os.path.join(test_dir, disease_folder), exist_ok=True)\n",
        "\n",
        "    # Get all images in the current disease folder\n",
        "    images = [img for img in os.listdir(disease_folder_path) if img.lower().endswith(('jpg', 'jpeg', 'png', 'JPG'))]\n",
        "    random.shuffle(images)\n",
        "\n",
        "    # Calculate split indices\n",
        "    train_split = int(train_ratio * len(images))\n",
        "    val_split = int(val_ratio * len(images)) + train_split\n",
        "\n",
        "    # Split images into train, val, and test sets\n",
        "    train_images = images[:train_split]\n",
        "    val_images = images[train_split:val_split]\n",
        "    test_images = images[val_split:]\n",
        "\n",
        "    # Move images to respective folders\n",
        "    for img in train_images:\n",
        "        shutil.move(os.path.join(disease_folder_path, img), os.path.join(train_dir, disease_folder, img))\n",
        "    for img in val_images:\n",
        "        shutil.move(os.path.join(disease_folder_path, img), os.path.join(val_dir, disease_folder, img))\n",
        "    for img in test_images:\n",
        "        shutil.move(os.path.join(disease_folder_path, img), os.path.join(test_dir, disease_folder, img))\n",
        "\n",
        "print(\"Dataset split completed!\")\n"
      ],
      "metadata": {
        "id": "1_bi76JBICHQ"
      },
      "execution_count": null,
      "outputs": []
    },
    {
      "cell_type": "code",
      "source": [
        "from ultralytics import YOLO\n",
        "\n",
        "model = YOLO('yolo11s-cls.pt')\n",
        "\n",
        "model.train(data='data', epochs=10)"
      ],
      "metadata": {
        "id": "rGNPgVBLH6zl"
      },
      "execution_count": null,
      "outputs": []
    }
  ]
}